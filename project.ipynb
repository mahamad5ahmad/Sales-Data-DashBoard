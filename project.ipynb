{
 "cells": [
  {
   "cell_type": "code",
   "execution_count": 1,
   "metadata": {},
   "outputs": [
    {
     "name": "stderr",
     "output_type": "stream",
     "text": [
      "<ipython-input-1-3c31a49bbe51>:10: UserWarning: \n",
      "The dash_core_components package is deprecated. Please replace\n",
      "`import dash_core_components as dcc` with `from dash import dcc`\n",
      "  import dash_core_components as dcc\n",
      "<ipython-input-1-3c31a49bbe51>:11: UserWarning: \n",
      "The dash_html_components package is deprecated. Please replace\n",
      "`import dash_html_components as html` with `from dash import html`\n",
      "  import dash_html_components as html\n"
     ]
    },
    {
     "data": {
      "image/png": "[encoded data removed]",
      "text/plain": [
       "<Figure size 432x288 with 1 Axes>"
      ]
     },
     "metadata": {
      "needs_background": "light"
     },
     "output_type": "display_data"
    }
   ],
   "source": [
    "import pandas as pd\n",
    "import dash\n",
    "import dash_bootstrap_components as dbc\n",
    "from dash import Input, Output, dcc, html\n",
    "import dash\n",
    "import dash_bootstrap_components as dbc\n",
    "from dash import Input, Output, dcc, html\n",
    "import dash\n",
    "import dash_bootstrap_components as dbc\n",
    "import dash_core_components as dcc\n",
    "import dash_html_components as html\n",
    "from dash.dependencies import Input, Output, State\n",
    "import plotly.express as px\n",
    "import pandas as pd\n",
    "\n",
    "####\n",
    "import pandas as pd\n",
    "import plotly.express as px\n",
    "import dash\n",
    "import dash_bootstrap_components as dbc\n",
    "from dash import Input, Output, dcc, html, State\n",
    "import dash\n",
    "import dash_bootstrap_components as dbc\n",
    "from dash import Input, Output, dcc, html\n",
    "import numpy as np\n",
    "from sklearn.linear_model import LinearRegression\n",
    "from sklearn.preprocessing import OrdinalEncoder\n",
    "import dash\n",
    "import dash_bootstrap_components as dbc\n",
    "import pandas as pd\n",
    "import plotly.graph_objs as go\n",
    "from dash import Input, Output, dcc, html\n",
    "from sklearn import datasets\n",
    "from sklearn.cluster import KMeans\n",
    "df=pd.read_csv('insurance.csv')\n",
    "ord_enc = OrdinalEncoder()\n",
    "df[\"sex\"] = ord_enc.fit_transform(df[[\"sex\"]])\n",
    "df[\"region\"] = ord_enc.fit_transform(df[[\"region\"]])\n",
    "df[\"smoker\"] = ord_enc.fit_transform(df[[\"smoker\"]])\n",
    "reg = LinearRegression().fit(df.iloc[:,:-1].values, df['expenses'].values)\n",
    "reg.predict(np.array([[3,5,3,4,5,7]]) )\n",
    "df.head(3)\n",
    "###\n",
    "df2=pd.read_csv('insurance.csv')\n",
    "df2.head(3)\n",
    "df2.shape\n",
    "df2.dtypes\n",
    "df2.age.hist()\n",
    "df2.describe()\n",
    "df2.region.unique()\n",
    "fig1=px.scatter(df, x='bmi',y='expenses',color='smoker',size='age',size_max=20,hover_name='region'\n",
    "           ,title='ABMI VS Expenses',trendline='ols' , width=600, height=400)\n",
    "fig2=px.scatter(df, x='age',y='bmi',size_max=20,hover_name='region',color='sex'\n",
    "           ,title='Age VS BMI',trendline='ols', width=600, height=400 )\n",
    "d=df.groupby(['children']).mean()['expenses'].reset_index()\n",
    "fig3=px.bar(d , x='children' ,y='expenses' ,title='Children Number VS Totoal Expenses' )\n",
    "fig4=px.box(df, x='children',y='expenses',hover_name='region',color='sex'\n",
    "           ,title='Children Number VS Expenses Distribution')\n",
    "fig5=px.box(df, x='sex',y='age',hover_name='region',color='smoker'\n",
    "           ,title='Age Distribution for different genders')"
   ]
  },
  {
   "cell_type": "code",
   "execution_count": 2,
   "metadata": {},
   "outputs": [
    {
     "data": {
      "text/plain": [
       "'30.7Average BMI'"
      ]
     },
     "execution_count": 2,
     "metadata": {},
     "output_type": "execute_result"
    }
   ],
   "source": [
    "str(round(df.bmi.mean(),1))+'Average BMI'"
   ]
  },
  {
   "cell_type": "code",
   "execution_count": 3,
   "metadata": {},
   "outputs": [],
   "source": [
    "\n",
    "\n",
    "card_content1 = [\n",
    "   \n",
    "    dbc.CardBody(\n",
    "        [\n",
    "            html.H2(str(round(df.expenses.mean()/1000,1))+'K'),  \n",
    "            html.H4 ( 'Average Expenses', className=\"card-title\"),\n",
    "           \n",
    "        ]\n",
    "    ),\n",
    "]\n",
    "\n",
    "card_content2 = [\n",
    "   \n",
    "    dbc.CardBody(\n",
    "        [\n",
    "            html.H2(str(round(df.bmi.mean(),1))) ,\n",
    "            html.H4( 'Average BMI', className=\"card-title\"),\n",
    "           \n",
    "        ]\n",
    "    ),\n",
    "]\n",
    "\n",
    "card_content3 = [\n",
    "   \n",
    "    dbc.CardBody(\n",
    "        [\n",
    "            html.H2(str(round(df.smoker.mean()*100))+'%') ,\n",
    "            html.H4( 'smoking percentage ', className=\"card-title\"),\n",
    "           \n",
    "        ]\n",
    "    ),\n",
    "]\n",
    "\n",
    "page1 = html.Div(\n",
    "    [\n",
    "        dbc.Row(\n",
    "            [\n",
    "                dbc.Col(dbc.Card(card_content1, color=\"primary\", inverse=True)),\n",
    "                dbc.Col(\n",
    "                    dbc.Card(card_content2, color=\"secondary\", inverse=True)\n",
    "                ),\n",
    "                dbc.Col(dbc.Card(card_content3, color=\"info\", inverse=True)),\n",
    "            ],\n",
    "            className=\"mb-4\",\n",
    "        ),\n",
    "        dbc.Row(\n",
    "            [\n",
    "                dbc.Col(   dcc.Graph(figure=fig1) ,className='seven columns' ),\n",
    "                \n",
    "                dbc.Col(  dcc.Graph(figure=fig2) ,className='seven columns'    ),\n",
    "            ],\n",
    "            className=\"mb-4\",\n",
    "        ),\n",
    "        dbc.Row(\n",
    "            [\n",
    "               dbc.Col(   dcc.Graph(figure=fig3) ,className='four columns' ),\n",
    "                \n",
    "                dbc.Col(  dcc.Graph(figure=fig4) ,className='four columns'    ),\n",
    "                 dbc.Col(  dcc.Graph(figure=fig5) ,className='four columns'    ),\n",
    "            ]\n",
    "        ),\n",
    "    ]\n",
    ")\n",
    "\n",
    "\n",
    "###################################################page2########################################\n",
    "\n",
    "\n",
    "iris_raw = datasets.load_iris()\n",
    "iris = pd.DataFrame(iris_raw[\"data\"], columns=iris_raw[\"feature_names\"])\n",
    "\n",
    "\n",
    "but=html.Div(\n",
    "    [\n",
    "        dbc.Button(\n",
    "            \"Predict \",\n",
    "            id=\"fade-transition-button\",\n",
    "            className=\"mb-3\",\n",
    "            n_clicks=0,\n",
    "        ),\n",
    "        dbc.Fade(\n",
    "            dbc.Card(\n",
    "                dbc.CardBody(\n",
    "                   html.Div( 'predicting ... ',id='ii'),\n",
    "                )\n",
    "            ),\n",
    "            id=\"fade-transition\",\n",
    "            is_in=True,\n",
    "            style={\"transition\": \"opacity 2000ms ease\"},\n",
    "            timeout=2000,\n",
    "        ),\n",
    "    ]\n",
    ")\n",
    "\n",
    "controls1 = dbc.Card(\n",
    "    [\n",
    "        html.Div(\n",
    "            [\n",
    "                dbc.Label(\"Gender \"),\n",
    "                dcc.Dropdown(\n",
    "                    id=\"x-variable\",\n",
    "                    options=[\n",
    "                        {\"label\": \"male\" , \"value\": \"1\" } ,{\"label\": \"female\" , \"value\": \"0\" } \n",
    "                    ],\n",
    "                    value=\"male\",\n",
    "                ),\n",
    "            ]\n",
    "        ),\n",
    "        html.Div(\n",
    "            [\n",
    "                dbc.Label(\"Region \"),\n",
    "                dcc.Dropdown(\n",
    "                    id=\"y-variable\",\n",
    "                    options=[\n",
    "                     {\"label\": \"southwest\" , \"value\": \"3\" } ,{\"label\": \"southeast\" , \"value\": \"2\" },{\"label\": \"northwest\" , \"value\": \"1\" } ,{\"label\": \"northeast\" , \"value\": \"0\" } \n",
    "                    ],\n",
    "                    value=\"southwest\",\n",
    "                ),\n",
    "            ]\n",
    "        ),\n",
    "        html.Div(\n",
    "            [\n",
    "                dbc.Label(\"Age \"),\n",
    "                dbc.Input(id=\"age\", type=\"number\", value=40),\n",
    "            ]\n",
    "        ),\n",
    "        \n",
    "         html.Div(\n",
    "            [\n",
    "                dbc.Label(\"BMI \"),\n",
    "                dbc.Input(id=\"bmi\", type=\"number\", value=30),\n",
    "            ]\n",
    "        ),\n",
    "        \n",
    "        html.Div(\n",
    "            [\n",
    "                dbc.Label(\"Chilren \"),\n",
    "                dbc.Input(id=\"children\", type=\"number\", value=4),\n",
    "            ]\n",
    "        ),\n",
    "        \n",
    "           html.Div(\n",
    "            [\n",
    "                dbc.Label(\"Smoker \"),\n",
    "                dcc.Dropdown(\n",
    "                    id=\"smoker\",\n",
    "                    options=[\n",
    "                     {\"label\": \"smoker\" , \"value\": \"1\" } ,{\"label\": \"nonsmoker\" , \"value\": \"0\" } \n",
    "                    ],\n",
    "                    value=\"smoker\",\n",
    "                ),\n",
    "            ]\n",
    "        ),\n",
    "        \n",
    "     \n",
    "        \n",
    "    \n",
    "        \n",
    "    ],\n",
    "    body=True,\n",
    ")\n",
    "\n",
    "\n",
    "\n",
    "\n",
    "page2 = dbc.Container(\n",
    "    [\n",
    "        html.H1(\"Predicting health expenses ...\"),\n",
    "        html.Hr(),\n",
    "        dbc.Row(\n",
    "            [\n",
    "                dbc.Col(controls1, md=4),\n",
    "                dbc.Col(html.Div(dcc.Graph(id='myPredict')), md=8),\n",
    "                #dbc.Col(dcc.Graph(figure = px.histogram(df, x=\"expenses\")), md=8),\n",
    "                #dbc.Col(controls2, md=5),\n",
    "            ],\n",
    "            align=\"center\",\n",
    "        ),\n",
    "        \n",
    "        \n",
    "        \n",
    "        dbc.Row(\n",
    "            but\n",
    "        ),\n",
    "        \n",
    "    ],\n",
    "    fluid=True,\n",
    ")"
   ]
  },
  {
   "cell_type": "code",
   "execution_count": null,
   "metadata": {},
   "outputs": [
    {
     "name": "stdout",
     "output_type": "stream",
     "text": [
      "Dash is running on http://127.0.0.1:8050/\n",
      "\n",
      " * Serving Flask app \"__main__\" (lazy loading)\n",
      " * Environment: production\n",
      "   WARNING: This is a development server. Do not use it in a production deployment.\n",
      "   Use a production WSGI server instead.\n",
      " * Debug mode: off\n"
     ]
    },
    {
     "name": "stderr",
     "output_type": "stream",
     "text": [
      " * Running on http://127.0.0.1:8050/ (Press CTRL+C to quit)\n",
      "127.0.0.1 - - [28/Apr/2022 13:58:55] \"\u001b[37mGET / HTTP/1.1\u001b[0m\" 200 -\n",
      "127.0.0.1 - - [28/Apr/2022 13:58:56] \"\u001b[37mGET /_dash-layout HTTP/1.1\u001b[0m\" 200 -\n",
      "127.0.0.1 - - [28/Apr/2022 13:58:56] \"\u001b[37mGET /_dash-dependencies HTTP/1.1\u001b[0m\" 200 -\n",
      "127.0.0.1 - - [28/Apr/2022 13:58:56] \"\u001b[37mPOST /_dash-update-component HTTP/1.1\u001b[0m\" 200 -\n",
      "127.0.0.1 - - [28/Apr/2022 13:58:56] \"\u001b[37mPOST /_dash-update-component HTTP/1.1\u001b[0m\" 200 -\n",
      "127.0.0.1 - - [28/Apr/2022 13:58:56] \"\u001b[36mGET /_dash-component-suites/dash/dcc/async-graph.js HTTP/1.1\u001b[0m\" 304 -\n",
      "127.0.0.1 - - [28/Apr/2022 13:58:56] \"\u001b[36mGET /_dash-component-suites/dash/dcc/async-plotlyjs.js HTTP/1.1\u001b[0m\" 304 -\n",
      "127.0.0.1 - - [28/Apr/2022 14:04:39] \"\u001b[37mPOST /_dash-update-component HTTP/1.1\u001b[0m\" 200 -\n",
      "127.0.0.1 - - [28/Apr/2022 14:12:51] \"\u001b[37mPOST /_dash-update-component HTTP/1.1\u001b[0m\" 200 -\n",
      "127.0.0.1 - - [28/Apr/2022 14:12:53] \"\u001b[37mPOST /_dash-update-component HTTP/1.1\u001b[0m\" 200 -\n",
      "127.0.0.1 - - [28/Apr/2022 14:12:54] \"\u001b[36mGET /_dash-component-suites/dash/dcc/async-dropdown.js HTTP/1.1\u001b[0m\" 304 -\n"
     ]
    },
    {
     "name": "stdout",
     "output_type": "stream",
     "text": [
      "Exception on /_dash-update-component [POST]\n",
      "Traceback (most recent call last):\n",
      "  File \"C:\\Users\\user\\anaconda3\\lib\\site-packages\\flask\\app.py\", line 2447, in wsgi_app\n",
      "    response = self.full_dispatch_request()\n",
      "  File \"C:\\Users\\user\\anaconda3\\lib\\site-packages\\flask\\app.py\", line 1952, in full_dispatch_request\n",
      "    rv = self.handle_user_exception(e)\n",
      "  File \"C:\\Users\\user\\anaconda3\\lib\\site-packages\\flask\\app.py\", line 1821, in handle_user_exception\n",
      "    reraise(exc_type, exc_value, tb)\n",
      "  File \"C:\\Users\\user\\anaconda3\\lib\\site-packages\\flask\\_compat.py\", line 39, in reraise\n",
      "    raise value\n",
      "  File \"C:\\Users\\user\\anaconda3\\lib\\site-packages\\flask\\app.py\", line 1950, in full_dispatch_request\n",
      "    rv = self.dispatch_request()\n",
      "  File \"C:\\Users\\user\\anaconda3\\lib\\site-packages\\flask\\app.py\", line 1936, in dispatch_request\n",
      "    return self.view_functions[rule.endpoint](**req.view_args)\n",
      "  File \"C:\\Users\\user\\anaconda3\\lib\\site-packages\\dash\\dash.py\", line 1345, in dispatch\n",
      "    response.set_data(func(*args, outputs_list=outputs_list))\n",
      "  File \"C:\\Users\\user\\anaconda3\\lib\\site-packages\\dash\\_callback.py\", line 166, in add_context\n",
      "    flat_output_values = flatten_grouping(output_value, output)\n",
      "  File \"C:\\Users\\user\\anaconda3\\lib\\site-packages\\dash\\_grouping.py\", line 34, in flatten_grouping\n",
      "    validate_grouping(grouping, schema)\n",
      "  File \"C:\\Users\\user\\anaconda3\\lib\\site-packages\\dash\\_grouping.py\", line 213, in validate_grouping\n",
      "    SchemaTypeValidationError.check(grouping, full_schema, path, (tuple, list))\n",
      "  File \"C:\\Users\\user\\anaconda3\\lib\\site-packages\\dash\\_grouping.py\", line 165, in check\n",
      "    raise SchemaTypeValidationError(value, full_schema, path, expected_type)\n",
      "dash._grouping.SchemaTypeValidationError: Schema: [<Output `myPredict.figure`>, <Output `fade-transition.is_in`>, <Output `ii.children`>]\n",
      "Path: ()\n",
      "Expected type: (<class 'tuple'>, <class 'list'>)\n",
      "Received value of type <class 'bool'>:\n",
      "    True\n"
     ]
    },
    {
     "name": "stderr",
     "output_type": "stream",
     "text": [
      "127.0.0.1 - - [28/Apr/2022 14:12:54] \"\u001b[35m\u001b[1mPOST /_dash-update-component HTTP/1.1\u001b[0m\" 500 -\n",
      "127.0.0.1 - - [28/Apr/2022 14:12:55] \"\u001b[37mPOST /_dash-update-component HTTP/1.1\u001b[0m\" 200 -\n"
     ]
    },
    {
     "name": "stdout",
     "output_type": "stream",
     "text": [
      "[126730.39892733]\n"
     ]
    },
    {
     "name": "stderr",
     "output_type": "stream",
     "text": [
      "127.0.0.1 - - [28/Apr/2022 14:13:17] \"\u001b[37mPOST /_dash-update-component HTTP/1.1\u001b[0m\" 200 -\n",
      "127.0.0.1 - - [28/Apr/2022 14:13:29] \"\u001b[37mPOST /_dash-update-component HTTP/1.1\u001b[0m\" 200 -\n"
     ]
    },
    {
     "name": "stdout",
     "output_type": "stream",
     "text": [
      "[126987.67140951]\n"
     ]
    },
    {
     "name": "stderr",
     "output_type": "stream",
     "text": [
      "127.0.0.1 - - [28/Apr/2022 14:13:29] \"\u001b[37mPOST /_dash-update-component HTTP/1.1\u001b[0m\" 200 -\n"
     ]
    },
    {
     "name": "stdout",
     "output_type": "stream",
     "text": [
      "[127244.94389168]\n",
      "[127502.21637386]\n",
      "[127759.48885603]\n"
     ]
    },
    {
     "name": "stderr",
     "output_type": "stream",
     "text": [
      "127.0.0.1 - - [28/Apr/2022 14:13:30] \"\u001b[37mPOST /_dash-update-component HTTP/1.1\u001b[0m\" 200 -\n",
      "127.0.0.1 - - [28/Apr/2022 14:13:30] \"\u001b[37mPOST /_dash-update-component HTTP/1.1\u001b[0m\" 200 -\n"
     ]
    },
    {
     "name": "stdout",
     "output_type": "stream",
     "text": [
      "[128016.76133821]\n",
      "[128274.03382038]\n"
     ]
    },
    {
     "name": "stderr",
     "output_type": "stream",
     "text": [
      "127.0.0.1 - - [28/Apr/2022 14:13:30] \"\u001b[37mPOST /_dash-update-component HTTP/1.1\u001b[0m\" 200 -\n",
      "127.0.0.1 - - [28/Apr/2022 14:13:30] \"\u001b[37mPOST /_dash-update-component HTTP/1.1\u001b[0m\" 200 -\n"
     ]
    },
    {
     "name": "stdout",
     "output_type": "stream",
     "text": [
      "[128531.30630256]\n"
     ]
    },
    {
     "name": "stderr",
     "output_type": "stream",
     "text": [
      "127.0.0.1 - - [28/Apr/2022 14:13:31] \"\u001b[37mPOST /_dash-update-component HTTP/1.1\u001b[0m\" 200 -\n",
      "127.0.0.1 - - [28/Apr/2022 14:13:35] \"\u001b[37mPOST /_dash-update-component HTTP/1.1\u001b[0m\" 200 -\n"
     ]
    },
    {
     "name": "stdout",
     "output_type": "stream",
     "text": [
      "[128198.66148406]\n",
      "[127866.01666555]\n"
     ]
    },
    {
     "name": "stderr",
     "output_type": "stream",
     "text": [
      "127.0.0.1 - - [28/Apr/2022 14:13:35] \"\u001b[37mPOST /_dash-update-component HTTP/1.1\u001b[0m\" 200 -\n",
      "127.0.0.1 - - [28/Apr/2022 14:13:35] \"\u001b[37mPOST /_dash-update-component HTTP/1.1\u001b[0m\" 200 -\n"
     ]
    },
    {
     "name": "stdout",
     "output_type": "stream",
     "text": [
      "[127533.37184705]\n"
     ]
    },
    {
     "name": "stderr",
     "output_type": "stream",
     "text": [
      "127.0.0.1 - - [28/Apr/2022 14:13:35] \"\u001b[37mPOST /_dash-update-component HTTP/1.1\u001b[0m\" 200 -\n"
     ]
    },
    {
     "name": "stdout",
     "output_type": "stream",
     "text": [
      "[127200.72702854]\n",
      "[126868.08221004]\n"
     ]
    },
    {
     "name": "stderr",
     "output_type": "stream",
     "text": [
      "127.0.0.1 - - [28/Apr/2022 14:13:35] \"\u001b[37mPOST /_dash-update-component HTTP/1.1\u001b[0m\" 200 -\n",
      "127.0.0.1 - - [28/Apr/2022 14:14:30] \"\u001b[37mPOST /_dash-update-component HTTP/1.1\u001b[0m\" 200 -\n",
      "127.0.0.1 - - [28/Apr/2022 14:14:32] \"\u001b[37mPOST /_dash-update-component HTTP/1.1\u001b[0m\" 200 -\n",
      "127.0.0.1 - - [28/Apr/2022 14:14:36] \"\u001b[37mPOST /_dash-update-component HTTP/1.1\u001b[0m\" 200 -\n",
      "127.0.0.1 - - [28/Apr/2022 14:39:17] \"\u001b[37mPOST /_dash-update-component HTTP/1.1\u001b[0m\" 200 -\n",
      "127.0.0.1 - - [28/Apr/2022 14:39:19] \"\u001b[37mPOST /_dash-update-component HTTP/1.1\u001b[0m\" 200 -\n"
     ]
    },
    {
     "name": "stdout",
     "output_type": "stream",
     "text": [
      "Exception on /_dash-update-component [POST]\n",
      "Traceback (most recent call last):\n",
      "  File \"C:\\Users\\user\\anaconda3\\lib\\site-packages\\flask\\app.py\", line 2447, in wsgi_app\n",
      "    response = self.full_dispatch_request()\n",
      "  File \"C:\\Users\\user\\anaconda3\\lib\\site-packages\\flask\\app.py\", line 1952, in full_dispatch_request\n",
      "    rv = self.handle_user_exception(e)\n",
      "  File \"C:\\Users\\user\\anaconda3\\lib\\site-packages\\flask\\app.py\", line 1821, in handle_user_exception\n",
      "    reraise(exc_type, exc_value, tb)\n",
      "  File \"C:\\Users\\user\\anaconda3\\lib\\site-packages\\flask\\_compat.py\", line 39, in reraise\n",
      "    raise value\n",
      "  File \"C:\\Users\\user\\anaconda3\\lib\\site-packages\\flask\\app.py\", line 1950, in full_dispatch_request\n",
      "    rv = self.dispatch_request()\n",
      "  File \"C:\\Users\\user\\anaconda3\\lib\\site-packages\\flask\\app.py\", line 1936, in dispatch_request\n",
      "    return self.view_functions[rule.endpoint](**req.view_args)\n",
      "  File \"C:\\Users\\user\\anaconda3\\lib\\site-packages\\dash\\dash.py\", line 1345, in dispatch\n",
      "    response.set_data(func(*args, outputs_list=outputs_list))\n",
      "  File \"C:\\Users\\user\\anaconda3\\lib\\site-packages\\dash\\_callback.py\", line 166, in add_context\n",
      "    flat_output_values = flatten_grouping(output_value, output)\n",
      "  File \"C:\\Users\\user\\anaconda3\\lib\\site-packages\\dash\\_grouping.py\", line 34, in flatten_grouping\n",
      "    validate_grouping(grouping, schema)\n",
      "  File \"C:\\Users\\user\\anaconda3\\lib\\site-packages\\dash\\_grouping.py\", line 213, in validate_grouping\n",
      "    SchemaTypeValidationError.check(grouping, full_schema, path, (tuple, list))\n",
      "  File \"C:\\Users\\user\\anaconda3\\lib\\site-packages\\dash\\_grouping.py\", line 165, in check\n",
      "    raise SchemaTypeValidationError(value, full_schema, path, expected_type)\n",
      "dash._grouping.SchemaTypeValidationError: Schema: [<Output `myPredict.figure`>, <Output `fade-transition.is_in`>, <Output `ii.children`>]\n",
      "Path: ()\n",
      "Expected type: (<class 'tuple'>, <class 'list'>)\n",
      "Received value of type <class 'bool'>:\n",
      "    True\n"
     ]
    },
    {
     "name": "stderr",
     "output_type": "stream",
     "text": [
      "127.0.0.1 - - [28/Apr/2022 14:39:19] \"\u001b[35m\u001b[1mPOST /_dash-update-component HTTP/1.1\u001b[0m\" 500 -\n",
      "127.0.0.1 - - [28/Apr/2022 14:39:22] \"\u001b[37mPOST /_dash-update-component HTTP/1.1\u001b[0m\" 200 -\n",
      "127.0.0.1 - - [28/Apr/2022 14:39:39] \"\u001b[37mPOST /_dash-update-component HTTP/1.1\u001b[0m\" 200 -\n"
     ]
    },
    {
     "name": "stdout",
     "output_type": "stream",
     "text": [
      "[126730.39892733]\n"
     ]
    },
    {
     "name": "stderr",
     "output_type": "stream",
     "text": [
      "127.0.0.1 - - [28/Apr/2022 14:39:49] \"\u001b[37mPOST /_dash-update-component HTTP/1.1\u001b[0m\" 200 -\n"
     ]
    },
    {
     "name": "stdout",
     "output_type": "stream",
     "text": [
      "[126730.39892733]\n"
     ]
    },
    {
     "name": "stderr",
     "output_type": "stream",
     "text": [
      "127.0.0.1 - - [28/Apr/2022 14:39:54] \"\u001b[37mPOST /_dash-update-component HTTP/1.1\u001b[0m\" 200 -\n"
     ]
    },
    {
     "name": "stdout",
     "output_type": "stream",
     "text": [
      "[126473.12644515]\n"
     ]
    },
    {
     "name": "stderr",
     "output_type": "stream",
     "text": [
      "127.0.0.1 - - [28/Apr/2022 14:39:55] \"\u001b[37mPOST /_dash-update-component HTTP/1.1\u001b[0m\" 200 -\n"
     ]
    },
    {
     "name": "stdout",
     "output_type": "stream",
     "text": [
      "[126215.85396298]\n",
      "[125958.5814808]"
     ]
    },
    {
     "name": "stderr",
     "output_type": "stream",
     "text": [
      "127.0.0.1 - - [28/Apr/2022 14:39:55] \"\u001b[37mPOST /_dash-update-component HTTP/1.1\u001b[0m\" 200 -\n"
     ]
    },
    {
     "name": "stdout",
     "output_type": "stream",
     "text": [
      "\n",
      "[125701.30899863]\n"
     ]
    },
    {
     "name": "stderr",
     "output_type": "stream",
     "text": [
      "127.0.0.1 - - [28/Apr/2022 14:39:55] \"\u001b[37mPOST /_dash-update-component HTTP/1.1\u001b[0m\" 200 -\n",
      "127.0.0.1 - - [28/Apr/2022 14:39:57] \"\u001b[37mPOST /_dash-update-component HTTP/1.1\u001b[0m\" 200 -\n"
     ]
    },
    {
     "name": "stdout",
     "output_type": "stream",
     "text": [
      "[126033.95381713]\n"
     ]
    },
    {
     "name": "stderr",
     "output_type": "stream",
     "text": [
      "127.0.0.1 - - [28/Apr/2022 14:39:58] \"\u001b[37mPOST /_dash-update-component HTTP/1.1\u001b[0m\" 200 -\n"
     ]
    },
    {
     "name": "stdout",
     "output_type": "stream",
     "text": [
      "[126366.59863563]\n",
      "[126699.24345414]\n"
     ]
    },
    {
     "name": "stderr",
     "output_type": "stream",
     "text": [
      "127.0.0.1 - - [28/Apr/2022 14:39:58] \"\u001b[37mPOST /_dash-update-component HTTP/1.1\u001b[0m\" 200 -\n",
      "127.0.0.1 - - [28/Apr/2022 14:39:58] \"\u001b[37mPOST /_dash-update-component HTTP/1.1\u001b[0m\" 200 -\n"
     ]
    },
    {
     "name": "stdout",
     "output_type": "stream",
     "text": [
      "[127031.88827264]\n"
     ]
    },
    {
     "name": "stderr",
     "output_type": "stream",
     "text": [
      "127.0.0.1 - - [28/Apr/2022 14:39:59] \"\u001b[37mPOST /_dash-update-component HTTP/1.1\u001b[0m\" 200 -\n"
     ]
    },
    {
     "name": "stdout",
     "output_type": "stream",
     "text": [
      "[127364.53309115]\n"
     ]
    },
    {
     "name": "stderr",
     "output_type": "stream",
     "text": [
      "127.0.0.1 - - [28/Apr/2022 14:40:11] \"\u001b[37mPOST /_dash-update-component HTTP/1.1\u001b[0m\" 200 -\n",
      "127.0.0.1 - - [28/Apr/2022 14:40:14] \"\u001b[37mPOST /_dash-update-component HTTP/1.1\u001b[0m\" 200 -\n",
      "127.0.0.1 - - [28/Apr/2022 14:40:21] \"\u001b[37mPOST /_dash-update-component HTTP/1.1\u001b[0m\" 200 -\n"
     ]
    }
   ],
   "source": [
    "import dash\n",
    "import dash_bootstrap_components as dbc\n",
    "import dash_core_components as dcc\n",
    "import dash_html_components as html\n",
    "from dash.dependencies import Input, Output, State\n",
    "\n",
    "app = dash.Dash(external_stylesheets=[dbc.themes.BOOTSTRAP])\n",
    "\n",
    "navbar = dbc.NavbarSimple(\n",
    "    children=[\n",
    "        dbc.Button(\"Sidebar\", outline=True, color=\"secondary\", className=\"mr-1\", id=\"btn_sidebar\"),\n",
    "        dbc.NavItem(dbc.NavLink(\" Visualization \", href=\"#\")),\n",
    "        #dbc.DropdownMenu(\n",
    "        #    children=[\n",
    "        #        dbc.DropdownMenuItem(\"More pages\", header=True),\n",
    "        #        dbc.DropdownMenuItem(\"Page 2\", href=\"#\"),\n",
    "        #        dbc.DropdownMenuItem(\"Page 3\", href=\"#\"),\n",
    "        #    ],\n",
    "        #    nav=True,\n",
    "        #    in_navbar=True,\n",
    "        #    label=\"More\",\n",
    "        #),\n",
    "    ],\n",
    "    brand=\"Health Assurance Data\",\n",
    "    brand_href=\"#\",\n",
    "    color=\"dark\",\n",
    "    dark=True,\n",
    "    fluid=True,\n",
    ")\n",
    "\n",
    "\n",
    "# the style arguments for the sidebar. We use position:fixed and a fixed width\n",
    "SIDEBAR_STYLE = {\n",
    "    \"position\": \"fixed\",\n",
    "    \"top\": 62.5,\n",
    "    \"left\": 0,\n",
    "    \"bottom\": 0,\n",
    "    \"width\": \"16rem\",\n",
    "    \"height\": \"100%\",\n",
    "    \"z-index\": 1,\n",
    "    \"overflow-x\": \"hidden\",\n",
    "    \"transition\": \"all 0.5s\",\n",
    "    \"padding\": \"0.5rem 1rem\",\n",
    "    \"background-color\": \"#f8f9fa\",\n",
    "}\n",
    "\n",
    "SIDEBAR_HIDEN = {\n",
    "    \"position\": \"fixed\",\n",
    "    \"top\": 62.5,\n",
    "    \"left\": \"-16rem\",\n",
    "    \"bottom\": 0,\n",
    "    \"width\": \"16rem\",\n",
    "    \"height\": \"100%\",\n",
    "    \"z-index\": 1,\n",
    "    \"overflow-x\": \"hidden\",\n",
    "    \"transition\": \"all 0.5s\",\n",
    "    \"padding\": \"0rem 0rem\",\n",
    "    \"background-color\": \"#f8f9fa\",\n",
    "}\n",
    "\n",
    "# the styles for the main content position it to the right of the sidebar and\n",
    "# add some padding.\n",
    "CONTENT_STYLE = {\n",
    "    \"transition\": \"margin-left .5s\",\n",
    "    \"margin-left\": \"18rem\",\n",
    "    \"margin-right\": \"2rem\",\n",
    "    \"padding\": \"2rem 1rem\",\n",
    "    \"background-color\": \"#f8f9fa\",\n",
    "}\n",
    "\n",
    "CONTENT_STYLE1 = {\n",
    "    \"transition\": \"margin-left .5s\",\n",
    "    \"margin-left\": \"2rem\",\n",
    "    \"margin-right\": \"2rem\",\n",
    "    \"padding\": \"2rem 1rem\",\n",
    "    \"background-color\": \"#f8f9fa\",\n",
    "}\n",
    "\n",
    "sidebar = html.Div(\n",
    "    [\n",
    "        html.H2(\"Sidebar\", className=\"display-4\"),\n",
    "        html.Hr(),\n",
    "        html.P(\n",
    "            \"A simple sidebar layout with navigation links\", className=\"lead\"\n",
    "        ),\n",
    "        dbc.Nav(\n",
    "            [\n",
    "                dbc.NavLink(\"Visualization \", href=\"/page-1\", id=\"page-1-link\"),\n",
    "                dbc.NavLink(\"Model Prediction\", href=\"/page-2\", id=\"page-2-link\"),\n",
    "               # dbc.NavLink(\"Page 3\", href=\"/page-3\", id=\"page-3-link\"),\n",
    "            ],\n",
    "            vertical=True,\n",
    "            pills=True,\n",
    "        ),\n",
    "    ],\n",
    "    id=\"sidebar\",\n",
    "    style=SIDEBAR_STYLE,\n",
    ")\n",
    "\n",
    "content = html.Div(\n",
    "\n",
    "    id=\"page-content\",\n",
    "    style=CONTENT_STYLE)\n",
    "\n",
    "app.layout = html.Div(\n",
    "    [\n",
    "        dcc.Store(id='side_click'),\n",
    "        dcc.Location(id=\"url\"),\n",
    "        navbar,\n",
    "        sidebar,\n",
    "        content,\n",
    "    ],\n",
    ")\n",
    "\n",
    "\n",
    "@app.callback(\n",
    "    [\n",
    "        Output(\"sidebar\", \"style\"),\n",
    "        Output(\"page-content\", \"style\"),\n",
    "        Output(\"side_click\", \"data\"),\n",
    "    ],\n",
    "\n",
    "    [Input(\"btn_sidebar\", \"n_clicks\")],\n",
    "    [\n",
    "        State(\"side_click\", \"data\"),\n",
    "    ]\n",
    ")\n",
    "def toggle_sidebar(n, nclick):\n",
    "    if n:\n",
    "        if nclick == \"SHOW\":\n",
    "            sidebar_style = SIDEBAR_HIDEN\n",
    "            content_style = CONTENT_STYLE1\n",
    "            cur_nclick = \"HIDDEN\"\n",
    "        else:\n",
    "            sidebar_style = SIDEBAR_STYLE\n",
    "            content_style = CONTENT_STYLE\n",
    "            cur_nclick = \"SHOW\"\n",
    "    else:\n",
    "        sidebar_style = SIDEBAR_STYLE\n",
    "        content_style = CONTENT_STYLE\n",
    "        cur_nclick = 'SHOW'\n",
    "\n",
    "    return sidebar_style, content_style, cur_nclick\n",
    "\n",
    "# this callback uses the current pathname to set the active state of the\n",
    "# corresponding nav link to true, allowing users to tell see page they are on\n",
    "@app.callback(\n",
    "    [Output(f\"page-{i}-link\", \"active\") for i in range(1, 4)],\n",
    "    [Input(\"url\", \"pathname\")],\n",
    ")\n",
    "def toggle_active_links(pathname):\n",
    "    if pathname == \"/\":\n",
    "        # Treat page 1 as the homepage / index\n",
    "        return True, False, False\n",
    "    return [pathname == f\"/page-{i}\" for i in range(1, 4)]\n",
    "\n",
    "\n",
    "@app.callback(Output(\"page-content\", \"children\"), [Input(\"url\", \"pathname\")])\n",
    "def render_page_content(pathname):\n",
    "    if pathname in [\"/\", \"/page-1\"]:\n",
    "        return page1\n",
    "    elif pathname == \"/page-2\":\n",
    "        return page2\n",
    "    elif pathname == \"/page-3\":\n",
    "        return html.P(\"Oh cool, this is page 3!\")\n",
    "    # If the user tries to reach a different page, return a 404 message\n",
    "    return dbc.Jumbotron(\n",
    "        [\n",
    "            html.H1(\"404: Not found\", className=\"text-danger\"),\n",
    "            html.Hr(),\n",
    "            html.P(f\"The pathname {pathname} was not recognised...\"),\n",
    "        ]\n",
    "    )\n",
    "\n",
    "\n",
    "################################page2######################\n",
    "@app.callback(\n",
    "    Output(component_id='myPredict',component_property='figure'),\n",
    "    Output(\"fade-transition\", \"is_in\"),\n",
    "    Output(\"ii\", \"children\"),\n",
    "    [Input(\"fade-transition-button\", \"n_clicks\")],\n",
    "     [Input(\"age\", \"value\")],\n",
    "     [Input(\"bmi\", \"value\")],\n",
    "     [Input(\"children\", \"value\")],\n",
    "    [State(\"fade-transition\", \"is_in\")],\n",
    ")\n",
    "def toggle_fade(n,a,b,c, is_in):\n",
    "    if not n:\n",
    "        # Button has never been clicked\n",
    "        return True\n",
    "    res=reg.predict(np.array([[float(a),2,float(b),float(c),5,7]]) )\n",
    "    print(res)\n",
    "    figure = px.histogram(df, x=\"expenses\")\n",
    "    figure.add_vline(x=res[0]-100000, line_width=3, line_dash=\"dash\", line_color=\"black\")\n",
    "    \n",
    "    return  figure,not is_in , \"the resut : \"+ str(round(res[0]/1000) )+ ' K'\n",
    "\n",
    "\n",
    "\n",
    "if __name__ == \"__main__\":\n",
    "    app.run_server()\n"
   ]
  },
  {
   "cell_type": "code",
   "execution_count": null,
   "metadata": {},
   "outputs": [],
   "source": [
    "accordion = html.Div(\n",
    "    dbc.Accordion(\n",
    "        [\n",
    "            dbc.AccordionItem(\n",
    "                [\n",
    "                    html.P(\"This is the content of the first section\"),\n",
    "                    dbc.Button(\"Click here\"),\n",
    "                ],\n",
    "                title=\"Item 1\",\n",
    "            ),\n",
    "            dbc.AccordionItem(\n",
    "                [\n",
    "                    html.P(\"This is the content of the second section\"),\n",
    "                    dbc.Button(\"Don't click me!\", color=\"danger\"),\n",
    "                ],\n",
    "                title=\"Item 2\",\n",
    "            ),\n",
    "            dbc.AccordionItem(\n",
    "                \"This is the content of the third section\",\n",
    "                title=\"Item 3\",\n",
    "            ),\n",
    "        ],\n",
    "    )\n",
    ")"
   ]
  },
  {
   "cell_type": "code",
   "execution_count": null,
   "metadata": {},
   "outputs": [],
   "source": [
    "card_content = [\n",
    "    dbc.CardHeader(\"Card header\"),\n",
    "    dbc.CardBody(\n",
    "        [\n",
    "            html.H5(\"Card title\", className=\"card-title\"),\n",
    "            html.P(\n",
    "                \"This is some card content that we'll reuse\",\n",
    "                className=\"card-text\",\n",
    "            ),\n",
    "        ]\n",
    "    ),\n",
    "]\n",
    "\n",
    "cards = html.Div(\n",
    "    [\n",
    "        dbc.Row(\n",
    "            [\n",
    "                dbc.Col(dbc.Card(card_content, color=\"primary\", inverse=True)),\n",
    "                dbc.Col(\n",
    "                    dbc.Card(card_content, color=\"secondary\", inverse=True)\n",
    "                ),\n",
    "                dbc.Col(dbc.Card(card_content, color=\"info\", inverse=True)),\n",
    "            ],\n",
    "            className=\"mb-4\",\n",
    "        ),\n",
    "        dbc.Row(\n",
    "            [\n",
    "                dbc.Col(   dcc.Graph(figure=fig1) ,className='five columns' ),\n",
    "                \n",
    "                dbc.Col(  dcc.Graph(figure=fig2) ,className='five columns'    ),\n",
    "            ],\n",
    "            className=\"mb-4\",\n",
    "        ),\n",
    "        dbc.Row(\n",
    "            [\n",
    "                dbc.Col(dbc.Card(card_content, color=\"light\")),\n",
    "                dbc.Col(dbc.Card(card_content, color=\"dark\", inverse=True)),\n",
    "            ]\n",
    "        ),\n",
    "    ]\n",
    ")"
   ]
  },
  {
   "cell_type": "code",
   "execution_count": null,
   "metadata": {},
   "outputs": [],
   "source": [
    "\"\"\"\n",
    "This app creates a simple sidebar layout using inline style arguments and the\n",
    "dbc.Nav component.\n",
    "\n",
    "dcc.Location is used to track the current location, and a callback uses the\n",
    "current location to render the appropriate page content. The active prop of\n",
    "each NavLink is set automatically according to the current pathname. To use\n",
    "this feature you must install dash-bootstrap-components >= 0.11.0.\n",
    "\n",
    "For more details on building multi-page Dash applications, check out the Dash\n",
    "documentation: https://dash.plot.ly/urls\n",
    "\"\"\"\n",
    "\n",
    "\n",
    "app = dash.Dash(external_stylesheets=[dbc.themes.BOOTSTRAP])\n",
    "\n",
    "# the style arguments for the sidebar. We use position:fixed and a fixed width\n",
    "SIDEBAR_STYLE = {\n",
    "    \"position\": \"fixed\",\n",
    "    \"top\": 0,\n",
    "    \"left\": 0,\n",
    "    \"bottom\": 0,\n",
    "    \"width\": \"16rem\",\n",
    "    \"padding\": \"2rem 1rem\",\n",
    "    \"background-color\": \"#f8f9fa\",\n",
    "}\n",
    "\n",
    "# the styles for the main content position it to the right of the sidebar and\n",
    "# add some padding.\n",
    "CONTENT_STYLE = {\n",
    "    \"margin-left\": \"18rem\",\n",
    "    \"margin-right\": \"2rem\",\n",
    "    \"padding\": \"2rem 1rem\",\n",
    "}\n",
    "\n",
    "sidebar = html.Div(\n",
    "    [\n",
    "        html.H2(\"Sidebar\", className=\"display-4\"),\n",
    "        html.Hr(),\n",
    "        html.P(\n",
    "            \"A simple sidebar layout with navigation links\", className=\"lead\"\n",
    "        ),\n",
    "        dbc.Nav(\n",
    "            [\n",
    "                dbc.NavLink(\"Home\", href=\"/\", active=\"exact\"),\n",
    "                dbc.NavLink(\"Page 1\", href=\"/page-1\", active=\"exact\"),\n",
    "                dbc.NavLink(\"Page 2\", href=\"/page-2\", active=\"exact\"),\n",
    "            ],\n",
    "            vertical=True,\n",
    "            pills=True,\n",
    "        ),\n",
    "    ],\n",
    "    style=SIDEBAR_STYLE,\n",
    ")\n",
    "\n",
    "content = html.Div(id=\"page-content\", style=CONTENT_STYLE)\n",
    "\n",
    "app.layout = html.Div([dcc.Location(id=\"url\"), sidebar, content])\n",
    "\n",
    "\n",
    "@app.callback(Output(\"page-content\", \"children\"), [Input(\"url\", \"pathname\")])\n",
    "def render_page_content(pathname):\n",
    "    if pathname == \"/\":\n",
    "        return html.P(\"This is the content of the home page!\")\n",
    "    elif pathname == \"/page-1\":\n",
    "        return cards \n",
    "    elif pathname == \"/page-2\":\n",
    "        return html.P(\"Oh cool, this is page 2!\")\n",
    "    # If the user tries to reach a different page, return a 404 message\n",
    "    return dbc.Jumbotron(\n",
    "        [\n",
    "            html.H1(\"404: Not found\", className=\"text-danger\"),\n",
    "            html.Hr(),\n",
    "            html.P(f\"The pathname {pathname} was not recognised...\"),\n",
    "        ]\n",
    "    )\n",
    "\n",
    "\n",
    "if __name__ == \"__main__\":\n",
    "    app.run_server()"
   ]
  },
  {
   "cell_type": "code",
   "execution_count": null,
   "metadata": {},
   "outputs": [],
   "source": []
  },
  {
   "cell_type": "code",
   "execution_count": null,
   "metadata": {},
   "outputs": [],
   "source": []
  },
  {
   "cell_type": "code",
   "execution_count": null,
   "metadata": {},
   "outputs": [],
   "source": []
  },
  {
   "cell_type": "code",
   "execution_count": null,
   "metadata": {},
   "outputs": [],
   "source": []
  }
 ],
 "metadata": {
  "kernelspec": {
   "display_name": "Python 3",
   "language": "python",
   "name": "python3"
  },
  "language_info": {
   "codemirror_mode": {
    "name": "ipython",
    "version": 3
   },
   "file_extension": ".py",
   "mimetype": "text/x-python",
   "name": "python",
   "nbconvert_exporter": "python",
   "pygments_lexer": "ipython3",
   "version": "3.8.5"
  }
 },
 "nbformat": 4,
 "nbformat_minor": 4
}
